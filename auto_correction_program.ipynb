{
  "nbformat": 4,
  "nbformat_minor": 0,
  "metadata": {
    "colab": {
      "name": "auto correction program.ipynb",
      "provenance": []
    },
    "kernelspec": {
      "name": "python3",
      "display_name": "Python 3"
    },
    "language_info": {
      "name": "python"
    }
  },
  "cells": [
    {
      "cell_type": "code",
      "source": [
        "import pickle\n",
        "import numpy as np\n"
      ],
      "metadata": {
        "id": "EuS3pWrYs51O"
      },
      "execution_count": 56,
      "outputs": []
    },
    {
      "cell_type": "code",
      "source": [
        "import nltk\n",
        "import string\n",
        "\n",
        "nltk.download('punkt')\n",
        "nltk.download('stopwords')\n",
        "nltk.download('wordnet')"
      ],
      "metadata": {
        "colab": {
          "base_uri": "https://localhost:8080/"
        },
        "id": "YWMxCU0lgskk",
        "outputId": "af81b25c-77c1-41a2-d787-307c7d267e10"
      },
      "execution_count": 60,
      "outputs": [
        {
          "output_type": "stream",
          "name": "stdout",
          "text": [
            "[nltk_data] Downloading package punkt to /root/nltk_data...\n",
            "[nltk_data]   Package punkt is already up-to-date!\n",
            "[nltk_data] Downloading package stopwords to /root/nltk_data...\n",
            "[nltk_data]   Package stopwords is already up-to-date!\n",
            "[nltk_data] Downloading package wordnet to /root/nltk_data...\n",
            "[nltk_data]   Package wordnet is already up-to-date!\n"
          ]
        },
        {
          "output_type": "execute_result",
          "data": {
            "text/plain": [
              "True"
            ]
          },
          "metadata": {},
          "execution_count": 60
        }
      ]
    },
    {
      "cell_type": "markdown",
      "source": [
        "# **Reading the reference vocab**\n",
        "\n",
        "\n",
        "\n",
        "\n",
        "\n",
        "\n",
        "\n"
      ],
      "metadata": {
        "id": "UDwkVEA3unyX"
      }
    },
    {
      "cell_type": "code",
      "execution_count": 57,
      "metadata": {
        "colab": {
          "base_uri": "https://localhost:8080/"
        },
        "id": "zR-uGct7sU_6",
        "outputId": "75a162ba-834c-4ee5-af08-dc88ab0cbbfe"
      },
      "outputs": [
        {
          "output_type": "stream",
          "name": "stdout",
          "text": [
            "['foreheads', 'mediate', 'broken', 'the', 'sacred', 'inadvertently', 'did', 'felt', 'The', 'time', 'shook', 'head', 'had', 'ribs', 'bird', 'humming', 'bloodshed', 'show', 'burst', 'cycle', 'stand', 'turbans', 'dagger', 'They', 'cousin', 'clever', 'those', 'These', 'father’s', 'youth', 'sees', 'ways', 'distant', 'them', 'nothing', 'tells', 'death', 'ruptures', 'Your', 'blood', 'alongside', 'You’re', 'but', 'still', 'gouge', 'from', 'bring', 'armor', 'sword', 'now’', 'then', 'shame', 'back', 'knight', 'cannot', 'king', 'an', 'stole', 'even', 'voice', 'noble', 'wonder', 'you', 'lands', 'his', 'along', 'hunger', 'grain', 'guest', 'perished', 'close', 'stars', 'forget', 'fade', 'years', 'face', 'Childhood', 'through', 'Everything', 'try', 'dangle', 'things', 'mourn', 'we', 'hand', 'child', 'forearm', 'licentious', 'could', 'Is', 'equal', 'otherwise', 'Arabic', 'voices', 'no', 'want', 'until', 'fills', 'shaking', 'sprouts', 'two', 'me', 'came', 'calls', 'shouted', 'to', 'talk', 'deceptive', 'hands', 'vengeance', 'her', 'Instill', 'you’re', 'he’s', 'would', 'cruel', 'regardless', 'written', 'as', 'than', 'tongue', 'die', 'breathe', 'men', 'upon', 'wish', 'replace', 'has', 'turn', 'cousins’', 'sheiks', 'for', 'find', 'seasonal', 'prop', 'know', 'Suddenly', 'existence', 'born', 'phony', 'don’t', 'boy', '‘Here', 'said', 'acceptance', 'getting', 'he', 'forehead', 'duels', 'of', 'retreated', 'sham', 'mother', 'news', 'give', 'family', 'on', 'forgotten', 'can', 'rain', 'Watch', 'suffering', 'against', 'growing', 'died', 'there', 'astrologers', 'rage', 'Musookh’', 'This', 'laughing', 'betrayal', 'badge', 'it', 'heart', 'So', 'glory', 'prayer', 'never', 'weapon', 'Water', 'nothingness', 'silent', 'decoration', 'are', 'heart…', 'up', 'share', 'front', 'swelled', 'walked', 'vile', 'alone', 'full', 'priceless', 'fingers', 'Eternal', 'memories', 'with', 'and', 'these', 'If', 'destroyed', 'if', 'war', 'house', 'killer', 'arrow', 'swords', 'in', 'become', 'blood…', 'have', 'unless', 'moving', 'lover', 'borne', 'pass…', 'moment', 'father', 'rejoicing', 'heavy', 'thousand', 'fire', 'that', 'throne', 'hearts', 'god', 'I', 'tell', 'suddenly', 'wear', 'a', 'stranger’s', 'awaiting', 'assassinated', 'sarcastically', 'may', 'behind', 'shiver', 'prince', 'land', 'more', 'song', 'equals', 'covered', 'caused', 'Let', 'brother’s', 'silver', 'leadership', 'like', 'gold', 'consideration', 'integrity', 'horses', 'joy', 'adorned', 'this', 'saw', 'how', 'walking', 'comfort', 'tomorrow', 'impossible', 'conqueror', 'reconcile', 'will', 'witnesses', 'who', 'asking', 'energy', 'embrace', 'knife', 'forgiven', 'just', 'blames', 'my', 'honest', 'should', 'our', 'seasons', 'look', 'hide', 'killed', 'bones', 'Arabs', 'bushes', 'true', 'How', 'brother', 'at', 'sands', 'snuck', 'while', 'were', 'son', 'Indeed', 'take', 'flying', 'kids', 'its', 'fruit', 'see', 'out’', 'birds', 'out', 'future', 'It', 'was', 'mark', 'old', 'trading', 'after', 'so', 'not', 'deathly', 'martyr', 'sounds', 'daughter', 'woman', 'leave', 'smile', 'wield', 'Bashfulness', 'orbit', 'him', 'sleeping', 'suppresses', 'respond', 'food', 'ancestors', 'such', 'truth', 'stop', 'newborn', 'is', 'desert', 'grapevines', 'moments', 'eyes', 'rest', 'swords’', 'o’', 'five', 'right', 'clothes', 'humiliated', 'because', 'flames', 'there…', 'your', 'us', 'say', 'bestow', 'only', 'Are', 'reconciliation', 'garden', 'verdant', 'We', 'treaty', 'over', 'lie', 'generations’', 'about', 'quite', 'they', 'guardian', 'seeing', 'kindle', 'or', 'whim', 'lands…', 'My', 'Would', 'into', 'deceit', 'myself', 'between', 'near', 'peace', 'struggled', 'corpse', 'kill', 'protect', 'young', 'elusion', 'be', 'whose', 'all', 'when', 'during', 'punctured', 'stabbed', 'returns', 'water', 'what', 'fighting', 'heads', 'step', 'post', 'fully', 'dream', 'ahead', 'few', 'thief', 'honor', 'much', 'me…', 'Do', 'by', 'their', 'tribe', 'yearning', 'gems', 'silence', 'fleeting', 'one', 'break']\n"
          ]
        }
      ],
      "source": [
        "with open('vocab.pkl', 'rb') as fid:\n",
        "  referenceVocab = pickle.load(fid)\n",
        "  print(referenceVocab)"
      ]
    },
    {
      "cell_type": "markdown",
      "source": [
        "# **Reading the input file that needs autocorrection**\n"
      ],
      "metadata": {
        "id": "i130iSgJu0nE"
      }
    },
    {
      "cell_type": "code",
      "source": [
        "\n",
        "with open('doc.txt') as f:\n",
        "    inputFile = f.readlines()\n",
        "print(inputFile)\n",
        "\n",
        "  "
      ],
      "metadata": {
        "colab": {
          "base_uri": "https://localhost:8080/"
        },
        "id": "IQjIAqhyeQPB",
        "outputId": "58334e81-55dc-4f11-f11f-2a97cf05a6a1"
      },
      "execution_count": 59,
      "outputs": [
        {
          "output_type": "stream",
          "name": "stdout",
          "text": [
            "['They wil say\\n', 'we came to you to stop the bloodshed\\n', \"we came to you, o' prince, to medaite.\\n\", 'They will say\\n', \"'Here we are cousins'\\n\", 'so tell them\\n', 'they had no such considration\\n', 'for he who has perished.\\n', 'Instill the sword into the forehead of the dessert\\n', 'until the nothingness tells you\\n', 'that I was for you\\n', 'a knight\\n', 'a brother\\n', 'a father\\n', 'and a king\\n', '\\n', '\\n', '\\n']\n"
          ]
        }
      ]
    },
    {
      "cell_type": "markdown",
      "source": [
        "# **minimum edit distance function**\n"
      ],
      "metadata": {
        "id": "kjBo3dxsu-iQ"
      }
    },
    {
      "cell_type": "code",
      "source": [
        "def minEditDistance(source,target):\n",
        "               \n",
        "   n= len(source)\n",
        "   m= len(target)\n",
        "   MED_Matrix= np.zeros((n+1,m+1), dtype='int32')\n",
        "   \n",
        "   for i in range(n+1):\n",
        "      for j in range(m+1):\n",
        "        if (i==0 and j==0):\n",
        "          MED_Matrix[i][j]=0\n",
        "        elif (i==0):\n",
        "          MED_Matrix[i][j]= MED_Matrix[i][j-1]+1\n",
        "        elif (j==0):\n",
        "         MED_Matrix[i][j]= MED_Matrix[i-1][j]+1\n",
        "        else:\n",
        "         if(source[i-1]==target[j-1]):\n",
        "           MED_Matrix[i][j]= MED_Matrix[i-1][j-1]\n",
        "         else:\n",
        "           MED_Matrix[i][j]= min([MED_Matrix[i-1][j],MED_Matrix[i-1][j-1],MED_Matrix[i][j-1]])+1\n",
        "   #print(MED_Matrix)\n",
        "   return (MED_Matrix[n][m])"
      ],
      "metadata": {
        "id": "rWoMkvGAt_CE"
      },
      "execution_count": 58,
      "outputs": []
    },
    {
      "cell_type": "markdown",
      "source": [
        "# **tokenizing the input file**\n"
      ],
      "metadata": {
        "id": "9SgmzQpNvGRY"
      }
    },
    {
      "cell_type": "code",
      "source": [
        "\n",
        "words=[]\n",
        "for sentence in inputFile:\n",
        "  from nltk.tokenize import word_tokenize as sentence2words\n",
        "  from nltk.tokenize import sent_tokenize as paragraph2sentence\n",
        "  word = sentence2words(sentence)\n",
        "  words=words+word # to make it a 1D list\n",
        "print(words)\n",
        "\n"
      ],
      "metadata": {
        "colab": {
          "base_uri": "https://localhost:8080/"
        },
        "id": "BObqvXLSgnmR",
        "outputId": "79dff9e1-b4dc-489c-b9c1-6d95f301dfac"
      },
      "execution_count": 61,
      "outputs": [
        {
          "output_type": "stream",
          "name": "stdout",
          "text": [
            "['They', 'wil', 'say', 'we', 'came', 'to', 'you', 'to', 'stop', 'the', 'bloodshed', 'we', 'came', 'to', 'you', ',', 'o', \"'\", 'prince', ',', 'to', 'medaite', '.', 'They', 'will', 'say', \"'Here\", 'we', 'are', 'cousins', \"'\", 'so', 'tell', 'them', 'they', 'had', 'no', 'such', 'considration', 'for', 'he', 'who', 'has', 'perished', '.', 'Instill', 'the', 'sword', 'into', 'the', 'forehead', 'of', 'the', 'dessert', 'until', 'the', 'nothingness', 'tells', 'you', 'that', 'I', 'was', 'for', 'you', 'a', 'knight', 'a', 'brother', 'a', 'father', 'and', 'a', 'king']\n"
          ]
        }
      ]
    },
    {
      "cell_type": "markdown",
      "source": [
        "# **iterating each word with the whol refernce vocabs to find best match**\n"
      ],
      "metadata": {
        "id": "irVtvonGvN_r"
      }
    },
    {
      "cell_type": "code",
      "source": [
        "for word in words:\n",
        "  if word not in string.punctuation:\n",
        "\n",
        "    Dict = {}\n",
        "    source=word\n",
        "    for referencedword in referenceVocab:\n",
        "      target=referencedword\n",
        "      minimumdistance=minEditDistance(source,target)\n",
        "      Dict[referencedword]=minimumdistance\n",
        "    bestFitVocab=min(Dict, key=Dict.get)\n",
        "    print(word,bestFitVocab)\n"
      ],
      "metadata": {
        "colab": {
          "base_uri": "https://localhost:8080/"
        },
        "id": "ub5pukJAj6EI",
        "outputId": "a89b2dae-7c9c-41df-c226-afe4b647d534"
      },
      "execution_count": 73,
      "outputs": [
        {
          "output_type": "stream",
          "name": "stdout",
          "text": [
            "They They\n",
            "wil will\n",
            "say say\n",
            "we we\n",
            "came came\n",
            "to to\n",
            "you you\n",
            "to to\n",
            "stop stop\n",
            "the the\n",
            "bloodshed bloodshed\n",
            "we we\n",
            "came came\n",
            "to to\n",
            "you you\n",
            "o no\n",
            "prince prince\n",
            "to to\n",
            "medaite mediate\n",
            "They They\n",
            "will will\n",
            "say say\n",
            "'Here ‘Here\n",
            "we we\n",
            "are are\n",
            "cousins cousin\n",
            "so so\n",
            "tell tell\n",
            "them them\n",
            "they they\n",
            "had had\n",
            "no no\n",
            "such such\n",
            "considration consideration\n",
            "for for\n",
            "he he\n",
            "who who\n",
            "has has\n",
            "perished perished\n",
            "Instill Instill\n",
            "the the\n",
            "sword sword\n",
            "into into\n",
            "the the\n",
            "forehead forehead\n",
            "of of\n",
            "the the\n",
            "dessert desert\n",
            "until until\n",
            "the the\n",
            "nothingness nothingness\n",
            "tells tells\n",
            "you you\n",
            "that that\n",
            "I I\n",
            "was was\n",
            "for for\n",
            "you you\n",
            "a a\n",
            "knight knight\n",
            "a a\n",
            "brother brother\n",
            "a a\n",
            "father father\n",
            "and and\n",
            "a a\n",
            "king king\n"
          ]
        }
      ]
    }
  ]
}